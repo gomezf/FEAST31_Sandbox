{
 "cells": [
  {
   "cell_type": "markdown",
   "metadata": {},
   "source": [
    "FEAST v3.1 custom case"
   ]
  },
  {
   "cell_type": "markdown",
   "metadata": {},
   "source": [
    "A field with wells and compressor station"
   ]
  },
  {
   "cell_type": "code",
   "execution_count": 1,
   "metadata": {},
   "outputs": [],
   "source": [
    "import numpy as np\n",
    "import matplotlib.pyplot as plt\n",
    "import os\n",
    "import copy\n",
    "import feast\n",
    "import pickle\n",
    "from multiprocessing import Pool"
   ]
  },
  {
   "cell_type": "code",
   "execution_count": 2,
   "metadata": {},
   "outputs": [
    {
     "name": "stdout",
     "output_type": "stream",
     "text": [
      "1\n"
     ]
    }
   ],
   "source": [
    "toto = 1\n",
    "print(toto)"
   ]
  },
  {
   "cell_type": "markdown",
   "metadata": {},
   "source": [
    "# Defining an emission scenario\n",
    "FEAST requires all potential emission sources to be declared as Components. Components are characterized by their emission production rate, emission size distribution, and the fraction of components expected to be emitting at the beginning of the simulation. In order to improve transparency, FEAST 3.1 does not have a \"default\" scenario. All emitters must be defined directly in order to run the simulation."
   ]
  },
  {
   "cell_type": "markdown",
   "metadata": {},
   "source": [
    "## Define fugitive components\n",
    "For this example, we will define exactly one type of component: a fugitive emitter. Additional types of components can be created in the same way. Venting components (that is, components that are intended to produce emissions) can be created by setting the \"base_reparable\" variable to False. In real production sites vented and fugitive emissions will both be present."
   ]
  },
  {
   "cell_type": "code",
   "execution_count": 3,
   "metadata": {},
   "outputs": [],
   "source": [
    "comp_fug = feast.EmissionSimModules.infrastructure_classes.Component(\n",
    "    name='Fugitive emitters',\n",
    "    emission_data_path='ExampleData/DataObjectInstances/production_emissions.p',\n",
    "    emission_per_comp=0.00231,  # Fraction of components expected to be emitting at the beginning of the simulation.\n",
    "    # emission_production_rate is set to about 5 new emissions per well per year\n",
    "    emission_production_rate=5.4 / 650 / 365,  # number of new emissions per component per day\n",
    "    repair_cost_path='ExampleData/DataObjectInstances/fernandez_leak_repair_costs_2006.p',\n",
    "    base_reparable=True\n",
    ")"
   ]
  },
  {
   "cell_type": "markdown",
   "metadata": {},
   "source": [
    "## Define a production Site\n",
    "A site is made of a collection of components. The components are stored in the variable comp_dict. The analyst may include many component types in the comp_dict.\n",
    "\n",
    "Using the copy library is good practice if a component type is going to be reused in multiple sites to avoid shared parameters."
   ]
  },
  {
   "cell_type": "code",
   "execution_count": 10,
   "metadata": {},
   "outputs": [],
   "source": [
    "wells_per_site = 1\n",
    "comps_per_well = 300\n",
    "well = feast.EmissionSimModules.infrastructure_classes.Site(\n",
    "    name='well',\n",
    "    comp_dict={\n",
    "        # ------ The number of components is proportional to the number of wells, ind2\n",
    "        'Fugitive ': {'number': comps_per_well * wells_per_site,\n",
    "                     'parameters': copy.deepcopy(comp_fug)},\n",
    "    }\n",
    ")\n",
    "\n",
    "comps_per_comp_station = 1200\n",
    "compressor_station = feast.EmissionSimModules.infrastructure_classes.Site(\n",
    "    name='compressor station',\n",
    "    comp_dict={\n",
    "        # ------ The number of components is proportional to the number of wells, ind2\n",
    "        'Fugitive ': {'number': comps_per_comp_station,\n",
    "                     'parameters': copy.deepcopy(comp_fug)},\n",
    "    }\n",
    ")"
   ]
  },
  {
   "cell_type": "markdown",
   "metadata": {},
   "source": [
    "## Define a Time object\n",
    "FEAST requires the simulation time settings to be declared in a time object."
   ]
  },
  {
   "cell_type": "code",
   "execution_count": 11,
   "metadata": {},
   "outputs": [],
   "source": [
    "time = feast.EmissionSimModules.simulation_classes.Time(delta_t=1, end_time=365)"
   ]
  },
  {
   "cell_type": "markdown",
   "metadata": {},
   "source": [
    "## Define a GasField\n",
    "All of the sites to be simulated must be collected into a dict and then passed to a GasField object. As of FEAST 3.1, a GasField object may also contain meteorological data.\n",
    "Anaconda Field"
   ]
  },
  {
   "cell_type": "code",
   "execution_count": null,
   "metadata": {},
   "outputs": [],
   "source": [
    "site_dict = {\n",
    "    'well pad': {\n",
    "        'number': 12, # The number of basic_site instances to simulate in the gas_field\n",
    "        'parameters': well_pad\n",
    "    },\n",
    "    # If additional site types are needed, they should be added here as separate dict entries\n",
    "    'compressor station': {\n",
    "        'number': 1, # The number of basic_site instances to simulate in the gas_field\n",
    "        'parameters': compressor_station\n",
    "    \n",
    "    }\n",
    "}\n",
    "gas_field = feast.EmissionSimModules.infrastructure_classes.GasField(\n",
    "    sites=site_dict,\n",
    "    time=time,\n",
    "    met_data_path='ExampleData/TMY-DataExample.csv'\n",
    ")"
   ]
  },
  {
   "cell_type": "code",
   "execution_count": null,
   "metadata": {},
   "outputs": [],
   "source": [
    "toto = 1\n",
    "len(site_dict)\n",
    "print(toto)"
   ]
  },
  {
   "cell_type": "markdown",
   "metadata": {},
   "source": [
    "# Define LDAR programs\n",
    "LDAR programs are made of detection methods, repair methods, and the connections between them. The first step in creating LDAR programs is defining detection and repair methods."
   ]
  },
  {
   "cell_type": "markdown",
   "metadata": {},
   "source": [
    "## Define a repair method\n",
    "A repair method takes one input parameter: the delay (days) between when an emission is detected and when it is repaired."
   ]
  },
  {
   "cell_type": "code",
   "execution_count": null,
   "metadata": {},
   "outputs": [],
   "source": [
    "rep3 = feast.DetectionModules.repair.Repair(repair_delay=3)"
   ]
  },
  {
   "cell_type": "markdown",
   "metadata": {},
   "source": [
    "## Define detection methods\n",
    "Detection methods accept a variety of variables that depend on the type of detection method to be simulated. In all cases, a detection method requires a set of conditions to be specified where the probability of detection (PoD) is known. Three examples are demonstrated below."
   ]
  },
  {
   "cell_type": "code",
   "execution_count": null,
   "metadata": {},
   "outputs": [],
   "source": [
    "# An OGI-like example where the PoD depends on emission rate only.\n",
    "def make_ogi(dispatch_obj):\n",
    "    points = np.array([0.5, 1, 2, 3, 7]) * 0.01157 # g/s\n",
    "    probs = np.array([0, 0.25, 0.5, 0.75, 1])\n",
    "    ogi = feast.DetectionModules.comp_survey.CompSurvey(\n",
    "        time,\n",
    "        survey_interval=180, # days\n",
    "        survey_speed=500, # comps/hr\n",
    "        ophrs={'begin': 8, 'end': 17},\n",
    "        labor=400, # $/hr\n",
    "        detection_variables={'flux': 'mean'},\n",
    "        detection_probability_points=points,  # g/s\n",
    "        detection_probabilities=probs,\n",
    "        dispatch_object=copy.deepcopy(dispatch_obj),\n",
    "        site_queue=[],\n",
    "    )\n",
    "    return ogi\n",
    "ogi = make_ogi(rep3)"
   ]
  },
  {
   "cell_type": "code",
   "execution_count": null,
   "metadata": {},
   "outputs": [],
   "source": [
    "# An OGI-like example that does not automatically survey components but can be dispatched\n",
    "def make_ogi_no_survey(dispatch_obj):\n",
    "    points = np.array([0.5, 1, 2, 3, 7]) * 0.01157 # g/s\n",
    "    probs = np.array([0, 0.25, 0.5, 0.75, 1])\n",
    "    ogi_no_survey = feast.DetectionModules.comp_survey.CompSurvey(\n",
    "        time,\n",
    "        survey_interval=None, # days\n",
    "        survey_speed=500, # comps/hr\n",
    "        ophrs={'begin': 8, 'end': 17},\n",
    "        labor=400, # $/hr\n",
    "        detection_variables={'flux': 'mean'},\n",
    "        detection_probability_points=points,  # g/s\n",
    "        detection_probabilities=probs,\n",
    "        dispatch_object=copy.deepcopy(dispatch_obj),\n",
    "        site_queue=[],\n",
    "    )\n",
    "    return ogi_no_survey\n",
    "ogi_no_survey = make_ogi_no_survey(rep3)"
   ]
  },
  {
   "cell_type": "code",
   "execution_count": null,
   "metadata": {},
   "outputs": [],
   "source": [
    "# A site level survey method\n",
    "def make_plane_survey(dispatch_obj):\n",
    "    points = np.array([25, 50, 100, 200, 400]) * 0.01157 # g/s\n",
    "    probs = np.array([0, 0.25, 0.5, 0.75, 1])\n",
    "    plane_survey = feast.DetectionModules.site_survey.SiteSurvey(\n",
    "        time,\n",
    "        survey_interval=180, # days\n",
    "        sites_per_day=200,\n",
    "        site_cost=100, # $/site\n",
    "        detection_variables={'flux': 'mean'},\n",
    "        detection_probability_points=points,\n",
    "        detection_probabilities=probs,\n",
    "        dispatch_object=copy.deepcopy(dispatch_obj),\n",
    "        site_queue=[],\n",
    "        ophrs={'begin': 8, 'end': 17}\n",
    "    )\n",
    "    return plane_survey\n",
    "plane_survey = make_plane_survey(ogi_no_survey)"
   ]
  },
  {
   "cell_type": "code",
   "execution_count": null,
   "metadata": {},
   "outputs": [],
   "source": [
    "# Continuous monitor method where detection depends on emission rate and windspeed. \n",
    "def make_cont_monitor(dispatch_obj):\n",
    "    points = [[0.5, 1], \n",
    "              [1.0, 1], \n",
    "              [1.1, 1], \n",
    "              [0.5, 5], \n",
    "              [1.0, 5], \n",
    "              [1.1, 5],\n",
    "              [0.5, 5.1], \n",
    "              [1.0, 5.1],\n",
    "              [1.1, 5.1]]\n",
    "    time_to_detect_days = [np.infty, 1, 0, np.infty, 5, 0, np.infty, np.infty, np.infty]\n",
    "    cont_monitor = feast.DetectionModules.site_monitor.SiteMonitor(\n",
    "        time,\n",
    "        time_to_detect_points=points,\n",
    "        time_to_detect_days=time_to_detect_days,\n",
    "        detection_variables={'flux': 'mean', 'wind speed': 'mean'},\n",
    "        site_queue=list(range(gas_field.n_sites)),\n",
    "        dispatch_object=copy.deepcopy(dispatch_obj),\n",
    "        ophrs={'begin': 8, 'end': 17}\n",
    "    )\n",
    "    return cont_monitor\n",
    "cont_monitor = make_cont_monitor(ogi_no_survey)"
   ]
  },
  {
   "cell_type": "markdown",
   "metadata": {},
   "source": [
    "## Collect detection methods into LDARPrograms"
   ]
  },
  {
   "cell_type": "code",
   "execution_count": null,
   "metadata": {},
   "outputs": [],
   "source": [
    "# Define LDAR programs\n",
    "ogi_survey = feast.DetectionModules.ldar_program.LDARProgram(\n",
    "    copy.deepcopy(gas_field), {'ogi': copy.deepcopy(ogi)},\n",
    ")\n",
    "# tiered survey\n",
    "tech_dict = {\n",
    "    'plane': plane_survey,\n",
    "    'ogi': plane_survey.dispatch_object\n",
    "}\n",
    "plane_ogi_survey = feast.DetectionModules.ldar_program.LDARProgram(\n",
    "    copy.deepcopy(gas_field), tech_dict,\n",
    ")\n",
    "\n",
    "# continuous monitor\n",
    "tech_dict = {\n",
    "    'cm': cont_monitor,\n",
    "    'ogi': cont_monitor.dispatch_object\n",
    "}\n",
    "cm_ogi = feast.DetectionModules.ldar_program.LDARProgram(\n",
    "    copy.deepcopy(gas_field), tech_dict,\n",
    ")\n",
    "\n",
    "# All programs\n",
    "ldar_dict = {\n",
    "    # Note: continuous monitor simulations dominate the computation load.\n",
    "    # Comment out the next line to exclude the continuous monitor program from the simulation.\n",
    "#    'cm': cm_ogi,\n",
    "    'ogi': ogi_survey,\n",
    "    'plane': plane_ogi_survey\n",
    "}\n"
   ]
  },
  {
   "cell_type": "markdown",
   "metadata": {},
   "source": [
    "# Run simulation"
   ]
  },
  {
   "cell_type": "code",
   "execution_count": null,
   "metadata": {},
   "outputs": [],
   "source": [
    "scenario = feast.EmissionSimModules.simulation_classes.Scenario(time=time, \n",
    "                                                                gas_field=gas_field, \n",
    "                                                                ldar_program_dict=ldar_dict)\n",
    "scenario.run(dir_out='TutorialResults', display_status=True, save_method='pickle')"
   ]
  },
  {
   "cell_type": "code",
   "execution_count": null,
   "metadata": {},
   "outputs": [],
   "source": [
    "from feast.ResultsProcessing.plotting_functions import time_series\n",
    "# The next line loads results from the most recently completed simulation.\n",
    "realn = len(os.listdir('TutorialResults')) - 1\n",
    "time_series('TutorialResults/realization' + str(realn) + '.p', line_width=4)"
   ]
  },
  {
   "cell_type": "markdown",
   "metadata": {},
   "source": [
    "# Evaluating many simulations\n",
    "FEAST is a stochastic model. Therefore, many iterations of the model should be considered to evaluate the variability between iterations. The cells below run 30 iterations of a simulation similar to that defined above, but without a continuous monitor method so that simulations can complete more quickly. The cell will take a few minutes to evaluate.\n",
    "\n",
    "Note that many objects in FEAST must be re-created during each iteration in order to avoid results from the previous iteration persisting into the next simulation."
   ]
  },
  {
   "cell_type": "code",
   "execution_count": 14,
   "metadata": {},
   "outputs": [],
   "source": [
    "from tutorial_helper import make_iteration\n",
    "from multiprocessing import Pool"
   ]
  },
  {
   "cell_type": "code",
   "execution_count": 15,
   "metadata": {},
   "outputs": [
    {
     "name": "stdout",
     "output_type": "stream",
     "text": [
      "Currently evaluating iteration number 8Currently evaluating iteration number 3Currently evaluating iteration number 1Currently evaluating iteration number 0Currently evaluating iteration number 6Currently evaluating iteration number 7Currently evaluating iteration number 2\n",
      "Currently evaluating iteration number 9\n",
      "Currently evaluating iteration number 4\n",
      "\n",
      "\n",
      "\n",
      "\n",
      "\n",
      "\n",
      "Currently evaluating iteration number 5\n",
      "Currently evaluating iteration number 10\n",
      "Currently evaluating iteration number 11\n",
      "Currently evaluating iteration number 12\n",
      "Currently evaluating iteration number 13\n",
      "Currently evaluating iteration number 14\n",
      "Currently evaluating iteration number 15Currently evaluating iteration number 16\n",
      "\n",
      "Currently evaluating iteration number 17\n",
      "Currently evaluating iteration number 18\n",
      "Currently evaluating iteration number 19\n",
      "Currently evaluating iteration number 20\n",
      "Currently evaluating iteration number 21\n",
      "Currently evaluating iteration number 22\n",
      "Currently evaluating iteration number 23\n",
      "Currently evaluating iteration number 24\n",
      "Currently evaluating iteration number 25\n",
      "Currently evaluating iteration number 26\n",
      "Currently evaluating iteration number 27\n",
      "Currently evaluating iteration number 28\n",
      "Currently evaluating iteration number 29\n"
     ]
    }
   ],
   "source": [
    "nreal=30\n",
    "with Pool(10) as p:\n",
    "    p.map(make_iteration, [ind for ind in range(nreal)])"
   ]
  },
  {
   "cell_type": "markdown",
   "metadata": {},
   "source": [
    "## Analyzing results\n",
    "FEAST offers a few simple tools for analyzing multiple pickled results files. \n",
    "The results_analysis function calculates the net present value of the of finding leaks and repairing leaks. If the gas_price parameter is set greater than zero, it also accounts for the value of avoided emissions. The npv output of the function returns a dict containing one NxK array for each of these cash flows, where N is the number of iterations, and K is the number of technologies. The order of LDAR programs is specified by the *programs* output parameter.\n",
    "\n",
    "In addition, *em_timeseries* contains an array of emission timeseries with dimension (N_programs + 1, N_timesteps, N_iterations). The first dimension is N_programs+1 because it includes an entry for the Null scenario as well as each LDAR program.\n",
    "\n",
    "The abatement_cost_plotter function uses the results_analysis function to calculate and plot the mitigation cost of each LDAR program."
   ]
  },
  {
   "cell_type": "code",
   "execution_count": 16,
   "metadata": {},
   "outputs": [],
   "source": [
    "ra = feast.ResultsProcessing.results_analysis_functions.results_analysis\n",
    "npv, em_timeseries, programs = ra('TutorialResults-MC', gas_price=0, discount_rate=0)"
   ]
  },
  {
   "cell_type": "code",
   "execution_count": 17,
   "metadata": {},
   "outputs": [
    {
     "data": {
      "image/png": "[encoded data removed]",
      "text/plain": [
       "<Figure size 432x288 with 1 Axes>"
      ]
     },
     "metadata": {
      "needs_background": "light"
     },
     "output_type": "display_data"
    }
   ],
   "source": [
    "feast.ResultsProcessing.plotting_functions.abatement_cost_plotter('TutorialResults-MC', \n",
    "                                                                  gwp=34, discount_rate=0, gas_price=0)"
   ]
  },
  {
   "cell_type": "markdown",
   "metadata": {},
   "source": [
    "## Utilizing the JSON save method\n",
    "When running many simulations, the 'pickle' save method results in unnecessarily large results files. The JSON save method provides a more efficient alternative. The resulting files can be loaded without importing FEAST."
   ]
  },
  {
   "cell_type": "code",
   "execution_count": 18,
   "metadata": {},
   "outputs": [
    {
     "name": "stdout",
     "output_type": "stream",
     "text": [
      "The evaluation is 0% complete\n",
      "The evaluation is 10% complete\n",
      "The evaluation is 20% complete\n",
      "The evaluation is 30% complete\n",
      "The evaluation is 40% complete\n",
      "The evaluation is 50% complete\n",
      "The evaluation is 60% complete\n",
      "The evaluation is 70% complete\n",
      "The evaluation is 80% complete\n",
      "The evaluation is 90% complete\n"
     ]
    }
   ],
   "source": [
    "time = feast.EmissionSimModules.simulation_classes.Time(delta_t=1, end_time=365)\n",
    "gas_field = feast.EmissionSimModules.infrastructure_classes.GasField(\n",
    "    sites=site_dict,\n",
    "    time=time,\n",
    "    met_data_path='ExampleData/TMY-DataExample.csv'\n",
    ")\n",
    "ogi = make_ogi(rep3)\n",
    "ogi_no_survey = make_ogi_no_survey(rep3)\n",
    "plane_survey = make_plane_survey(ogi_no_survey)\n",
    "# LDAR programs\n",
    "ogi_survey = feast.DetectionModules.ldar_program.LDARProgram(\n",
    "    copy.deepcopy(gas_field), {'ogi': ogi},\n",
    ")\n",
    "# tiered survey\n",
    "tech_dict = {\n",
    "    'plane': plane_survey,\n",
    "    'ogi': plane_survey.dispatch_object\n",
    "}\n",
    "plane_ogi_survey = feast.DetectionModules.ldar_program.LDARProgram(\n",
    "    copy.deepcopy(gas_field), tech_dict,\n",
    ")\n",
    "ldar_dict = {\n",
    "    'ogi': ogi_survey,\n",
    "    'plane': plane_ogi_survey\n",
    "}\n",
    "scenario = feast.EmissionSimModules.simulation_classes.Scenario(time=time, \n",
    "                                                            gas_field=gas_field, \n",
    "                                                            ldar_program_dict=ldar_dict)\n",
    "scenario.run(dir_out='TutorialResults-json', display_status=True, save_method='json')"
   ]
  },
  {
   "cell_type": "code",
   "execution_count": 19,
   "metadata": {},
   "outputs": [],
   "source": [
    "import json\n",
    "with open('TutorialResults-json/realization0.json') as f:\n",
    "    res = json.load(f)"
   ]
  },
  {
   "cell_type": "code",
   "execution_count": 20,
   "metadata": {},
   "outputs": [
    {
     "data": {
      "text/plain": [
       "dict_keys(['ogi', 'plane', 'Null'])"
      ]
     },
     "execution_count": 20,
     "metadata": {},
     "output_type": "execute_result"
    }
   ],
   "source": [
    "# A json result file is imported as a multilevel dict. The top level of the dict contains one entry for each LDAR program.\n",
    "res.keys()"
   ]
  },
  {
   "cell_type": "code",
   "execution_count": 21,
   "metadata": {},
   "outputs": [
    {
     "data": {
      "text/plain": [
       "dict_keys(['emission timeseries', 'vent timeseries', 'repair cost', 'plane', 'ogi', 'ogi repair'])"
      ]
     },
     "execution_count": 21,
     "metadata": {},
     "output_type": "execute_result"
    }
   ],
   "source": [
    "# The second level of the dict contains emission and vent timeseries, \n",
    "# as well as repair costs, and keys to additional levels of the dict\n",
    "# For complete documentation of the data structure, \n",
    "res['plane'].keys()"
   ]
  },
  {
   "cell_type": "code",
   "execution_count": 22,
   "metadata": {},
   "outputs": [
    {
     "data": {
      "text/plain": [
       "dict_keys(['deployment costs', 'deployment count', 'op env site fails', 'op env field fails'])"
      ]
     },
     "execution_count": 22,
     "metadata": {},
     "output_type": "execute_result"
    }
   ],
   "source": [
    "# To learn more about what is available in each layer, check out the keys!\n",
    "res['plane']['ogi'].keys()"
   ]
  },
  {
   "cell_type": "code",
   "execution_count": null,
   "metadata": {},
   "outputs": [],
   "source": []
  },
  {
   "cell_type": "code",
   "execution_count": null,
   "metadata": {},
   "outputs": [],
   "source": []
  }
 ],
 "metadata": {
  "kernelspec": {
   "display_name": "Python 3 (ipykernel)",
   "language": "python",
   "name": "python3"
  },
  "language_info": {
   "codemirror_mode": {
    "name": "ipython",
    "version": 3
   },
   "file_extension": ".py",
   "mimetype": "text/x-python",
   "name": "python",
   "nbconvert_exporter": "python",
   "pygments_lexer": "ipython3",
   "version": "3.7.10"
  }
 },
 "nbformat": 4,
 "nbformat_minor": 4
}
